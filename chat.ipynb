{
 "cells": [
  {
   "cell_type": "code",
   "execution_count": null,
   "metadata": {},
   "outputs": [],
   "source": [
    "pip install nltk"
   ]
  },
  {
   "cell_type": "code",
   "execution_count": null,
   "metadata": {},
   "outputs": [],
   "source": [
    "import nltk\n",
    "from nltk.chat.util import Chat, reflections\n",
    "\n",
    "# Define the chatbot's rules\n",
    "chat_rules = [\n",
    "    ['my name is (.*)', ['Hello %1! How can I assist you today?']],\n",
    "    ['(hi|hello|hey)', ['Hello!', 'Hi there!', 'Hey!']],\n",
    "    ['(.*) (help|assist)', ['Sure, I can help. How can I assist you?']],\n",
    "    ['(.*) (weather|temperature)', ['The weather is sunny today.', 'It will be rainy later.']],\n",
    "    ['(.*) (bye|goodbye)', ['Goodbye!', 'Take care!']],\n",
    "    ['(.*)', [\"I'm sorry, I didn't understand. Can you please rephrase that?\"]],\n",
    "]\n",
    "\n",
    "# Create a chatbot instance\n",
    "chatbot = Chat(chat_rules, reflections)\n",
    "\n",
    "# Start the conversation\n",
    "print(\"Welcome to the chatbot. Type 'quit' to exit.\")\n",
    "\n",
    "while True:\n",
    "    # Get user input\n",
    "    user_input = input(\"You: \")\n",
    "\n",
    "    if user_input.lower() == 'quit':\n",
    "        break\n",
    "\n",
    "    # Get chatbot's response\n",
    "    response = chatbot.respond(user_input)\n",
    "    print(\"ChatBot:\", response)"
   ]
  }
 ],
 "metadata": {
  "kernelspec": {
   "display_name": "Python 3",
   "language": "python",
   "name": "python3"
  },
  "language_info": {
   "name": "python",
   "version": "3.10.8"
  },
  "orig_nbformat": 4
 },
 "nbformat": 4,
 "nbformat_minor": 2
}
